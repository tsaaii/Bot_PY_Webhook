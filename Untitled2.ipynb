{
 "cells": [
  {
   "cell_type": "code",
   "execution_count": 1,
   "metadata": {},
   "outputs": [
    {
     "name": "stdout",
     "output_type": "stream",
     "text": [
      "\n",
      "The following command must be run outside of the IPython shell:\n",
      "\n",
      "    $ pip install dialogflow\n",
      "\n",
      "The Python package manager (pip) can only be used from outside of IPython.\n",
      "Please reissue the `pip` command in a separate terminal or command prompt.\n",
      "\n",
      "See the Python documentation for more informations on how to install packages:\n",
      "\n",
      "    https://docs.python.org/3/installing/\n"
     ]
    }
   ],
   "source": [
    "pip install dialogflow"
   ]
  },
  {
   "cell_type": "code",
   "execution_count": 1,
   "metadata": {},
   "outputs": [],
   "source": [
    "import dialogflow\n"
   ]
  },
  {
   "cell_type": "code",
   "execution_count": 2,
   "metadata": {},
   "outputs": [],
   "source": [
    "import pandas as pd\n",
    "from pandas import ExcelWriter\n",
    "from pandas import ExcelFile\n",
    " "
   ]
  },
  {
   "cell_type": "code",
   "execution_count": 3,
   "metadata": {},
   "outputs": [],
   "source": [
    "df1 = pd.read_excel('/Users/sai/Desktop/Zehrs.xlsx')\n",
    " "
   ]
  },
  {
   "cell_type": "code",
   "execution_count": 4,
   "metadata": {},
   "outputs": [
    {
     "data": {
      "text/plain": [
       "(236602, 4)"
      ]
     },
     "execution_count": 4,
     "metadata": {},
     "output_type": "execute_result"
    }
   ],
   "source": [
    "df1.head()\n",
    "df1.shape"
   ]
  },
  {
   "cell_type": "code",
   "execution_count": 5,
   "metadata": {},
   "outputs": [],
   "source": [
    "df2 = pd.read_excel('/Users/sai/Desktop/Zehrs.xlsx',sheet_name='Planograms in Store')"
   ]
  },
  {
   "cell_type": "code",
   "execution_count": 6,
   "metadata": {},
   "outputs": [
    {
     "data": {
      "text/plain": [
       "(2339, 6)"
      ]
     },
     "execution_count": 6,
     "metadata": {},
     "output_type": "execute_result"
    }
   ],
   "source": [
    "df2.shape"
   ]
  },
  {
   "cell_type": "code",
   "execution_count": 7,
   "metadata": {},
   "outputs": [
    {
     "name": "stdout",
     "output_type": "stream",
     "text": [
      "Column headings:\n",
      "Index(['Planogram Name', 'POG Category', 'Article Descripton', 'Article #'], dtype='object')\n",
      "Column headings:\n",
      "Index(['Store Number', 'Planogram Name', 'POG Category', 'Aisle',\n",
      "       'Number of Sections', 'Department'],\n",
      "      dtype='object')\n"
     ]
    }
   ],
   "source": [
    "print(\"Column headings:\")\n",
    "print(df1.columns)\n",
    "print(\"Column headings:\")\n",
    "print(df2.columns)"
   ]
  },
  {
   "cell_type": "code",
   "execution_count": 8,
   "metadata": {},
   "outputs": [],
   "source": [
    "df1=df1.rename(columns={'Planogram Name':'Planogram_Name','POG Category':'POG_Category','Article Descripton':'Article_Descripton','Article #':'Article_#'})"
   ]
  },
  {
   "cell_type": "code",
   "execution_count": 9,
   "metadata": {},
   "outputs": [],
   "source": [
    "df2=df2.rename(columns={'Store Number':'Store_Number','Planogram Name':'Planogram_Name','POG Category':'POG_Category','Aisle':'Aisle','Number of Sections':'Number_of_Sections','Department':'Department'})"
   ]
  },
  {
   "cell_type": "code",
   "execution_count": 44,
   "metadata": {},
   "outputs": [],
   "source": [
    "#from sqlalchemy import create_engine"
   ]
  },
  {
   "cell_type": "code",
   "execution_count": 45,
   "metadata": {},
   "outputs": [],
   "source": [
    "#engine = create_engine('sqlite:///:memory:')"
   ]
  },
  {
   "cell_type": "code",
   "execution_count": 10,
   "metadata": {},
   "outputs": [
    {
     "name": "stdout",
     "output_type": "stream",
     "text": [
      "<class 'pandas.core.frame.DataFrame'>\n",
      "RangeIndex: 236602 entries, 0 to 236601\n",
      "Data columns (total 4 columns):\n",
      "Planogram_Name        236602 non-null object\n",
      "POG_Category          236602 non-null object\n",
      "Article_Descripton    236602 non-null object\n",
      "Article_#             236602 non-null object\n",
      "dtypes: object(4)\n",
      "memory usage: 7.2+ MB\n"
     ]
    }
   ],
   "source": [
    "df1.info()"
   ]
  },
  {
   "cell_type": "code",
   "execution_count": 11,
   "metadata": {},
   "outputs": [
    {
     "name": "stdout",
     "output_type": "stream",
     "text": [
      "<class 'pandas.core.frame.DataFrame'>\n",
      "RangeIndex: 2339 entries, 0 to 2338\n",
      "Data columns (total 6 columns):\n",
      "Store_Number          2339 non-null int64\n",
      "Planogram_Name        2339 non-null object\n",
      "POG_Category          2339 non-null object\n",
      "Aisle                 2339 non-null object\n",
      "Number_of_Sections    2339 non-null int64\n",
      "Department            2339 non-null object\n",
      "dtypes: int64(2), object(4)\n",
      "memory usage: 109.7+ KB\n"
     ]
    }
   ],
   "source": [
    "df2.info()"
   ]
  },
  {
   "cell_type": "code",
   "execution_count": 13,
   "metadata": {},
   "outputs": [],
   "source": [
    "df2_523 = df2[df2.Store_Number==523]"
   ]
  },
  {
   "cell_type": "code",
   "execution_count": 14,
   "metadata": {},
   "outputs": [
    {
     "name": "stdout",
     "output_type": "stream",
     "text": [
      "<class 'pandas.core.frame.DataFrame'>\n",
      "Int64Index: 660 entries, 0 to 659\n",
      "Data columns (total 6 columns):\n",
      "Store_Number          660 non-null int64\n",
      "Planogram_Name        660 non-null object\n",
      "POG_Category          660 non-null object\n",
      "Aisle                 660 non-null object\n",
      "Number_of_Sections    660 non-null int64\n",
      "Department            660 non-null object\n",
      "dtypes: int64(2), object(4)\n",
      "memory usage: 36.1+ KB\n"
     ]
    }
   ],
   "source": [
    "df2_523.info()"
   ]
  },
  {
   "cell_type": "code",
   "execution_count": 15,
   "metadata": {},
   "outputs": [
    {
     "data": {
      "text/html": [
       "<div>\n",
       "<style scoped>\n",
       "    .dataframe tbody tr th:only-of-type {\n",
       "        vertical-align: middle;\n",
       "    }\n",
       "\n",
       "    .dataframe tbody tr th {\n",
       "        vertical-align: top;\n",
       "    }\n",
       "\n",
       "    .dataframe thead th {\n",
       "        text-align: right;\n",
       "    }\n",
       "</style>\n",
       "<table border=\"1\" class=\"dataframe\">\n",
       "  <thead>\n",
       "    <tr style=\"text-align: right;\">\n",
       "      <th></th>\n",
       "      <th>Store_Number</th>\n",
       "      <th>Planogram_Name</th>\n",
       "      <th>POG_Category</th>\n",
       "      <th>Aisle</th>\n",
       "      <th>Number_of_Sections</th>\n",
       "      <th>Department</th>\n",
       "    </tr>\n",
       "  </thead>\n",
       "  <tbody>\n",
       "    <tr>\n",
       "      <th>0</th>\n",
       "      <td>523</td>\n",
       "      <td>10_DOLLAR_BAG_NON_VISUAL_MARKET_ONTARIO_CLUSTER_A</td>\n",
       "      <td>10 DOLLAR BAG</td>\n",
       "      <td>MTBW</td>\n",
       "      <td>1</td>\n",
       "      <td>Meat</td>\n",
       "    </tr>\n",
       "    <tr>\n",
       "      <th>1</th>\n",
       "      <td>523</td>\n",
       "      <td>AIR_CARE_16X78_MARKET_EAST</td>\n",
       "      <td>AIR CARE</td>\n",
       "      <td>GR08R</td>\n",
       "      <td>1</td>\n",
       "      <td>Grocery</td>\n",
       "    </tr>\n",
       "    <tr>\n",
       "      <th>2</th>\n",
       "      <td>523</td>\n",
       "      <td>ALMAY_04X60</td>\n",
       "      <td>ALMAY</td>\n",
       "      <td>HB06L</td>\n",
       "      <td>1</td>\n",
       "      <td>Cosmetics</td>\n",
       "    </tr>\n",
       "    <tr>\n",
       "      <th>3</th>\n",
       "      <td>523</td>\n",
       "      <td>ALT_BEV_NCB_08X78_MARKET_ONTARIO</td>\n",
       "      <td>ALT BEV NCB</td>\n",
       "      <td>GR06R</td>\n",
       "      <td>1</td>\n",
       "      <td>Grocery</td>\n",
       "    </tr>\n",
       "    <tr>\n",
       "      <th>4</th>\n",
       "      <td>523</td>\n",
       "      <td>ANALGESICS_12X72_PHARMACY_NOKIDS</td>\n",
       "      <td>ANALGESICS</td>\n",
       "      <td>HB01R</td>\n",
       "      <td>1</td>\n",
       "      <td>HBC</td>\n",
       "    </tr>\n",
       "  </tbody>\n",
       "</table>\n",
       "</div>"
      ],
      "text/plain": [
       "   Store_Number                                     Planogram_Name  \\\n",
       "0           523  10_DOLLAR_BAG_NON_VISUAL_MARKET_ONTARIO_CLUSTER_A   \n",
       "1           523                         AIR_CARE_16X78_MARKET_EAST   \n",
       "2           523                                        ALMAY_04X60   \n",
       "3           523                   ALT_BEV_NCB_08X78_MARKET_ONTARIO   \n",
       "4           523                   ANALGESICS_12X72_PHARMACY_NOKIDS   \n",
       "\n",
       "    POG_Category  Aisle  Number_of_Sections Department  \n",
       "0  10 DOLLAR BAG   MTBW                   1       Meat  \n",
       "1       AIR CARE  GR08R                   1    Grocery  \n",
       "2          ALMAY  HB06L                   1  Cosmetics  \n",
       "3    ALT BEV NCB  GR06R                   1    Grocery  \n",
       "4     ANALGESICS  HB01R                   1        HBC  "
      ]
     },
     "execution_count": 15,
     "metadata": {},
     "output_type": "execute_result"
    }
   ],
   "source": [
    "df2_523.head(5)"
   ]
  },
  {
   "cell_type": "code",
   "execution_count": 16,
   "metadata": {},
   "outputs": [
    {
     "data": {
      "text/plain": [
       "(236602, 4)"
      ]
     },
     "execution_count": 16,
     "metadata": {},
     "output_type": "execute_result"
    }
   ],
   "source": [
    "df1.head(10)\n",
    "df1.shape"
   ]
  },
  {
   "cell_type": "code",
   "execution_count": 17,
   "metadata": {},
   "outputs": [],
   "source": [
    "df_pog_aisle_dept_2=df2_523[['POG_Category','Aisle','Department']]"
   ]
  },
  {
   "cell_type": "code",
   "execution_count": 18,
   "metadata": {},
   "outputs": [
    {
     "data": {
      "text/html": [
       "<div>\n",
       "<style scoped>\n",
       "    .dataframe tbody tr th:only-of-type {\n",
       "        vertical-align: middle;\n",
       "    }\n",
       "\n",
       "    .dataframe tbody tr th {\n",
       "        vertical-align: top;\n",
       "    }\n",
       "\n",
       "    .dataframe thead th {\n",
       "        text-align: right;\n",
       "    }\n",
       "</style>\n",
       "<table border=\"1\" class=\"dataframe\">\n",
       "  <thead>\n",
       "    <tr style=\"text-align: right;\">\n",
       "      <th></th>\n",
       "      <th>POG_Category</th>\n",
       "      <th>Aisle</th>\n",
       "      <th>Department</th>\n",
       "    </tr>\n",
       "  </thead>\n",
       "  <tbody>\n",
       "    <tr>\n",
       "      <th>0</th>\n",
       "      <td>10 DOLLAR BAG</td>\n",
       "      <td>MTBW</td>\n",
       "      <td>Meat</td>\n",
       "    </tr>\n",
       "    <tr>\n",
       "      <th>1</th>\n",
       "      <td>AIR CARE</td>\n",
       "      <td>GR08R</td>\n",
       "      <td>Grocery</td>\n",
       "    </tr>\n",
       "    <tr>\n",
       "      <th>2</th>\n",
       "      <td>ALMAY</td>\n",
       "      <td>HB06L</td>\n",
       "      <td>Cosmetics</td>\n",
       "    </tr>\n",
       "    <tr>\n",
       "      <th>3</th>\n",
       "      <td>ALT BEV NCB</td>\n",
       "      <td>GR06R</td>\n",
       "      <td>Grocery</td>\n",
       "    </tr>\n",
       "    <tr>\n",
       "      <th>4</th>\n",
       "      <td>ANALGESICS</td>\n",
       "      <td>HB01R</td>\n",
       "      <td>HBC</td>\n",
       "    </tr>\n",
       "  </tbody>\n",
       "</table>\n",
       "</div>"
      ],
      "text/plain": [
       "    POG_Category  Aisle Department\n",
       "0  10 DOLLAR BAG   MTBW       Meat\n",
       "1       AIR CARE  GR08R    Grocery\n",
       "2          ALMAY  HB06L  Cosmetics\n",
       "3    ALT BEV NCB  GR06R    Grocery\n",
       "4     ANALGESICS  HB01R        HBC"
      ]
     },
     "execution_count": 18,
     "metadata": {},
     "output_type": "execute_result"
    }
   ],
   "source": [
    "df_pog_aisle_dept_2.head(5)"
   ]
  },
  {
   "cell_type": "code",
   "execution_count": 19,
   "metadata": {},
   "outputs": [],
   "source": [
    "Store523= pd.merge(df1,df_pog_aisle_dept_2, on=\"POG_Category\")"
   ]
  },
  {
   "cell_type": "code",
   "execution_count": 20,
   "metadata": {},
   "outputs": [
    {
     "data": {
      "text/plain": [
       "(304838, 6)"
      ]
     },
     "execution_count": 20,
     "metadata": {},
     "output_type": "execute_result"
    }
   ],
   "source": [
    "Store523.shape"
   ]
  },
  {
   "cell_type": "code",
   "execution_count": 21,
   "metadata": {},
   "outputs": [],
   "source": [
    "df2_525 = df2[df2.Store_Number==525]"
   ]
  },
  {
   "cell_type": "code",
   "execution_count": 22,
   "metadata": {},
   "outputs": [],
   "source": [
    "df_pog_aisle_dept_525=df2_525[['POG_Category','Aisle','Department']]"
   ]
  },
  {
   "cell_type": "code",
   "execution_count": 23,
   "metadata": {},
   "outputs": [],
   "source": [
    "Store525= pd.merge(df1,df_pog_aisle_dept_525, on=\"POG_Category\")"
   ]
  },
  {
   "cell_type": "code",
   "execution_count": 24,
   "metadata": {},
   "outputs": [],
   "source": [
    "df2_524 = df2[df2.Store_Number==524] "
   ]
  },
  {
   "cell_type": "code",
   "execution_count": 25,
   "metadata": {},
   "outputs": [],
   "source": [
    "df_pog_aisle_dept_524=df2_524[['POG_Category','Aisle','Department']]"
   ]
  },
  {
   "cell_type": "code",
   "execution_count": 26,
   "metadata": {},
   "outputs": [],
   "source": [
    "Store524= pd.merge(df1,df_pog_aisle_dept_524, on=\"POG_Category\")"
   ]
  },
  {
   "cell_type": "code",
   "execution_count": 27,
   "metadata": {},
   "outputs": [],
   "source": [
    "df2_528 = df2[df2.Store_Number==528]"
   ]
  },
  {
   "cell_type": "code",
   "execution_count": 28,
   "metadata": {},
   "outputs": [],
   "source": [
    "df_pog_aisle_dept_528=df2_528[['POG_Category','Aisle','Department']]"
   ]
  },
  {
   "cell_type": "code",
   "execution_count": 31,
   "metadata": {},
   "outputs": [],
   "source": [
    "Store528= pd.merge(df1,df_pog_aisle_dept_528, on=\"POG_Category\")"
   ]
  },
  {
   "cell_type": "code",
   "execution_count": null,
   "metadata": {},
   "outputs": [],
   "source": []
  }
 ],
 "metadata": {
  "kernelspec": {
   "display_name": "Python 3",
   "language": "python",
   "name": "python3"
  },
  "language_info": {
   "codemirror_mode": {
    "name": "ipython",
    "version": 3
   },
   "file_extension": ".py",
   "mimetype": "text/x-python",
   "name": "python",
   "nbconvert_exporter": "python",
   "pygments_lexer": "ipython3",
   "version": "3.6.4"
  }
 },
 "nbformat": 4,
 "nbformat_minor": 2
}
