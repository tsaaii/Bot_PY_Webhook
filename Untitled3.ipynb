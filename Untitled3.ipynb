{
 "cells": [
  {
   "cell_type": "code",
   "execution_count": 2,
   "metadata": {},
   "outputs": [],
   "source": [
    "import pandas as pd\n",
    "from pandas import ExcelWriter\n",
    "from pandas import ExcelFile"
   ]
  },
  {
   "cell_type": "code",
   "execution_count": 3,
   "metadata": {},
   "outputs": [],
   "source": [
    "x1 = pd.read_excel('/Users/sai/Desktop/Zehrs.xlsx')\n",
    "x2 = pd.read_excel('/Users/sai/Desktop/Zehrs.xlsx',sheet_name='Planograms in Store')"
   ]
  },
  {
   "cell_type": "code",
   "execution_count": 4,
   "metadata": {},
   "outputs": [
    {
     "name": "stdout",
     "output_type": "stream",
     "text": [
      "Index(['Planogram Name', 'POG Category', 'Article Descripton', 'Article #'], dtype='object')\n",
      "Index(['Store Number', 'Planogram Name', 'POG Category', 'Aisle',\n",
      "       'Number of Sections', 'Department', 'Unnamed: 6'],\n",
      "      dtype='object')\n"
     ]
    }
   ],
   "source": [
    "print(x1.columns)\n",
    "print(x2.columns)"
   ]
  },
  {
   "cell_type": "code",
   "execution_count": 4,
   "metadata": {},
   "outputs": [
    {
     "name": "stdout",
     "output_type": "stream",
     "text": [
      "236602\n",
      "236602\n",
      "236602\n",
      "236602\n"
     ]
    }
   ],
   "source": [
    "print(x1['Planogram Name'].count())\n",
    "print(x1['POG Category'].count())\n",
    "print(x1['Article Descripton'].count())\n",
    "print(x1['Article #'].count())"
   ]
  },
  {
   "cell_type": "code",
   "execution_count": 5,
   "metadata": {},
   "outputs": [
    {
     "name": "stdout",
     "output_type": "stream",
     "text": [
      "1999\n",
      "527\n",
      "44038\n",
      "45338\n"
     ]
    }
   ],
   "source": [
    "print(x1['Planogram Name'].nunique())\n",
    "print(x1['POG Category'].nunique())\n",
    "print(x1['Article Descripton'].nunique())\n",
    "print(x1['Article #'].nunique())"
   ]
  },
  {
   "cell_type": "code",
   "execution_count": 6,
   "metadata": {},
   "outputs": [
    {
     "name": "stdout",
     "output_type": "stream",
     "text": [
      "2339\n",
      "2339\n",
      "2339\n",
      "2339\n",
      "2339\n",
      "2339\n",
      "661\n"
     ]
    }
   ],
   "source": [
    "print(x2['Planogram Name'].count())\n",
    "print(x2['POG Category'].count())\n",
    "print(x2['Aisle'].count())\n",
    "print(x2['Number of Sections'].count())\n",
    "print(x2['Department'].count())\n",
    "print(x2['Store Number'].count())\n",
    "print(x2['Unnamed: 6'].count())"
   ]
  },
  {
   "cell_type": "code",
   "execution_count": 7,
   "metadata": {},
   "outputs": [
    {
     "name": "stdout",
     "output_type": "stream",
     "text": [
      "874\n",
      "456\n",
      "146\n",
      "24\n",
      "20\n",
      "4\n",
      "420\n"
     ]
    }
   ],
   "source": [
    "print(x2['Planogram Name'].nunique())\n",
    "print(x2['POG Category'].nunique())\n",
    "print(x2['Aisle'].nunique())\n",
    "print(x2['Number of Sections'].nunique())\n",
    "print(x2['Department'].nunique())\n",
    "print(x2['Store Number'].nunique())\n",
    "print(x2['Unnamed: 6'].nunique())"
   ]
  },
  {
   "cell_type": "code",
   "execution_count": 8,
   "metadata": {},
   "outputs": [
    {
     "data": {
      "text/html": [
       "<div>\n",
       "<style scoped>\n",
       "    .dataframe tbody tr th:only-of-type {\n",
       "        vertical-align: middle;\n",
       "    }\n",
       "\n",
       "    .dataframe tbody tr th {\n",
       "        vertical-align: top;\n",
       "    }\n",
       "\n",
       "    .dataframe thead th {\n",
       "        text-align: right;\n",
       "    }\n",
       "</style>\n",
       "<table border=\"1\" class=\"dataframe\">\n",
       "  <thead>\n",
       "    <tr style=\"text-align: right;\">\n",
       "      <th></th>\n",
       "      <th>Planogram Name</th>\n",
       "      <th>POG Category</th>\n",
       "      <th>Article Descripton</th>\n",
       "      <th>Article #</th>\n",
       "    </tr>\n",
       "  </thead>\n",
       "  <tbody>\n",
       "    <tr>\n",
       "      <th>0</th>\n",
       "      <td>10_DOLLAR_BAG_NON_VISUAL_MARKET_ONTARIO_CLUSTER_A</td>\n",
       "      <td>10 DOLLAR BAG</td>\n",
       "      <td></td>\n",
       "      <td>21021912</td>\n",
       "    </tr>\n",
       "    <tr>\n",
       "      <th>1</th>\n",
       "      <td>10_DOLLAR_BAG_NON_VISUAL_MARKET_ONTARIO_CLUSTER_A</td>\n",
       "      <td>10 DOLLAR BAG</td>\n",
       "      <td>$10 CHICKEN &amp; VEG POTSTICKERS</td>\n",
       "      <td>21093255</td>\n",
       "    </tr>\n",
       "  </tbody>\n",
       "</table>\n",
       "</div>"
      ],
      "text/plain": [
       "                                      Planogram Name   POG Category  \\\n",
       "0  10_DOLLAR_BAG_NON_VISUAL_MARKET_ONTARIO_CLUSTER_A  10 DOLLAR BAG   \n",
       "1  10_DOLLAR_BAG_NON_VISUAL_MARKET_ONTARIO_CLUSTER_A  10 DOLLAR BAG   \n",
       "\n",
       "              Article Descripton Article #  \n",
       "0                                 21021912  \n",
       "1  $10 CHICKEN & VEG POTSTICKERS  21093255  "
      ]
     },
     "execution_count": 8,
     "metadata": {},
     "output_type": "execute_result"
    }
   ],
   "source": [
    "x1.head(2)"
   ]
  },
  {
   "cell_type": "code",
   "execution_count": 9,
   "metadata": {},
   "outputs": [
    {
     "data": {
      "text/html": [
       "<div>\n",
       "<style scoped>\n",
       "    .dataframe tbody tr th:only-of-type {\n",
       "        vertical-align: middle;\n",
       "    }\n",
       "\n",
       "    .dataframe tbody tr th {\n",
       "        vertical-align: top;\n",
       "    }\n",
       "\n",
       "    .dataframe thead th {\n",
       "        text-align: right;\n",
       "    }\n",
       "</style>\n",
       "<table border=\"1\" class=\"dataframe\">\n",
       "  <thead>\n",
       "    <tr style=\"text-align: right;\">\n",
       "      <th></th>\n",
       "      <th>Store Number</th>\n",
       "      <th>Planogram Name</th>\n",
       "      <th>POG Category</th>\n",
       "      <th>Aisle</th>\n",
       "      <th>Number of Sections</th>\n",
       "      <th>Department</th>\n",
       "      <th>Unnamed: 6</th>\n",
       "    </tr>\n",
       "  </thead>\n",
       "  <tbody>\n",
       "    <tr>\n",
       "      <th>0</th>\n",
       "      <td>523.0</td>\n",
       "      <td>10_DOLLAR_BAG_NON_VISUAL_MARKET_ONTARIO_CLUSTER_A</td>\n",
       "      <td>10 DOLLAR BAG</td>\n",
       "      <td>MTBW</td>\n",
       "      <td>1.0</td>\n",
       "      <td>Meat</td>\n",
       "      <td>NaN</td>\n",
       "    </tr>\n",
       "    <tr>\n",
       "      <th>1</th>\n",
       "      <td>523.0</td>\n",
       "      <td>AIR_CARE_16X78_MARKET_EAST</td>\n",
       "      <td>AIR CARE</td>\n",
       "      <td>GR08R</td>\n",
       "      <td>1.0</td>\n",
       "      <td>Grocery</td>\n",
       "      <td>NaN</td>\n",
       "    </tr>\n",
       "  </tbody>\n",
       "</table>\n",
       "</div>"
      ],
      "text/plain": [
       "   Store Number                                     Planogram Name  \\\n",
       "0         523.0  10_DOLLAR_BAG_NON_VISUAL_MARKET_ONTARIO_CLUSTER_A   \n",
       "1         523.0                         AIR_CARE_16X78_MARKET_EAST   \n",
       "\n",
       "    POG Category  Aisle  Number of Sections Department Unnamed: 6  \n",
       "0  10 DOLLAR BAG   MTBW                 1.0       Meat        NaN  \n",
       "1       AIR CARE  GR08R                 1.0    Grocery        NaN  "
      ]
     },
     "execution_count": 9,
     "metadata": {},
     "output_type": "execute_result"
    }
   ],
   "source": [
    "x2.head(2)"
   ]
  },
  {
   "cell_type": "code",
   "execution_count": 13,
   "metadata": {},
   "outputs": [],
   "source": [
    "table_dept=x2[['Department','POG Category']]\n",
    "#this table has the names of all departments and categories"
   ]
  },
  {
   "cell_type": "code",
   "execution_count": 182,
   "metadata": {},
   "outputs": [],
   "source": [
    "des=x1['Article Descripton']"
   ]
  },
  {
   "cell_type": "code",
   "execution_count": 209,
   "metadata": {},
   "outputs": [
    {
     "data": {
      "text/plain": [
       "0                                       \n",
       "1          $10 CHICKEN & VEG POTSTICKERS\n",
       "2                      $10 CHICKEN FRIES\n",
       "3                    $10 CHICKEN NUGGETS\n",
       "4                $10 CHICKEN SOUVLAKI FZ\n",
       "5                     $10 CHICKEN STRIPS\n",
       "6          $10 CHICKEN TOURNEDOS W BACON\n",
       "7               $10 FC ITALIAN MEATBALLS\n",
       "8                    $10 LEAN GRND CHKEN\n",
       "9                   $10 LEAN GROUND BEEF\n",
       "10             $10 PIZZA BITES PEPPERONI\n",
       "11                     $10 POTATO WEDGES\n",
       "12             $10 SAUSAGE MILD ITAL FRZ\n",
       "13             $10 SLICED CHICKEN BREAST\n",
       "14           $10 SMOKED BACON HASHBROWNS\n",
       "15          $10 ZESTY UNCOOKED CHKN BRST\n",
       "16              BUTCHER'S BUNDLE BOX BBQ\n",
       "17           BUTCHER'S BUNDLE FAMILY BOX\n",
       "18        AIRWICK AERO PURE OCEAN BREEZE\n",
       "19        AIRWICK AERO PURE PURP LAVNDER\n",
       "20            AIRWICK ESSENTIAL MIST KIT\n",
       "21                     AIRWICK FM CITRUS\n",
       "22                AIRWICK FM KIT MBREEZE\n",
       "23                   AIRWICK FM LAVENDER\n",
       "24            AIRWICK FM MOUNTAIN BREEZE\n",
       "25          AIRWICK FM PURE OCEAN BREEZE\n",
       "26        AIRWICK FM PURE PRPLE LAVENDER\n",
       "27            AIRWICK FM VANILLA PASSION\n",
       "28         AIRWICK LS FM KIT MOMS BAKING\n",
       "29             AIRWICK LS FM MOMS BAKING\n",
       "                       ...              \n",
       "236572             SOURCE YOGURT VANILLA\n",
       "236573               YOCRUNCH CHIPS AHOY\n",
       "236574                      YOCRUNCH M&M\n",
       "236575            YOP DRK YOG STRAWBERRY\n",
       "236576     YOP LIMITED EDITION STRAW BAN\n",
       "236577       YOP TWIST STRAWBERRY BANANA\n",
       "236578    YOPLAIT DRINKABLE YOGURT STRWB\n",
       "236579         YOPLAIT MINIGO POUCH RASP\n",
       "236580     YOPLAIT MINIGO STRAW DRNK YOG\n",
       "236581    YOPLAIT SOURCE ASSORTED YOGURT\n",
       "236582     YOPLAIT TUBES FRU PCH/STR-BAN\n",
       "236583     YOPLAIT TUBES LIMITED EDITION\n",
       "236584     YOPLAIT TUBES PEACH/BLUEBERRY\n",
       "236585     YOPLAIT TUBES RASPBERRY/GRAPE\n",
       "236586           YOPLAIT WM YOGURT PLAIN\n",
       "236587      YOPLAIT WM YOGURT SPECIAL ED\n",
       "236588         YOPLAIT WM YOGURT VANILLA\n",
       "236589        YOPLAIT YGT PRTN SHAKE VAN\n",
       "236590             YOPLAIT YOG DRINK PCH\n",
       "236591       YOPLAIT YOG DRINK RASPBERRY\n",
       "236592           YOPLAIT YOG DRINK STRAW\n",
       "236593         YOPLAIT YOG DRINK VANILLA\n",
       "236594     YOPLAIT YOG MINIGO POUCH STRW\n",
       "236595    YOPLAIT YOGURT BB MANG VAN CCT\n",
       "236596     YOPLAIT YOGURT CHRY STRAW VAN\n",
       "236597       YOPLAIT YOGURT P S STRWBRRY\n",
       "236598     YOPLAIT YOGURT PCH RASP STRAW\n",
       "236599       YOPLAIT YOGURT SOURCE ASSTD\n",
       "236600    Yoplait YOP straw/rasp/strwban\n",
       "236601    YOPLT MINIGO STRW BAN DRNK YOG\n",
       "Name: Article Descripton, Length: 236602, dtype: object"
      ]
     },
     "execution_count": 209,
     "metadata": {},
     "output_type": "execute_result"
    }
   ],
   "source": [
    "des"
   ]
  },
  {
   "cell_type": "code",
   "execution_count": 214,
   "metadata": {},
   "outputs": [
    {
     "data": {
      "text/plain": [
       "'GLADE'"
      ]
     },
     "execution_count": 214,
     "metadata": {},
     "output_type": "execute_result"
    }
   ],
   "source": [
    "des1=des.str.split().str.get(0)\n"
   ]
  },
  {
   "cell_type": "code",
   "execution_count": 218,
   "metadata": {},
   "outputs": [],
   "source": [
    "table_brand=des1"
   ]
  },
  {
   "cell_type": "code",
   "execution_count": 219,
   "metadata": {},
   "outputs": [],
   "source": [
    "table_brand=table_brand.drop_duplicates()"
   ]
  },
  {
   "cell_type": "code",
   "execution_count": 222,
   "metadata": {},
   "outputs": [],
   "source": [
    "table_article_numbers=x1[['Article #','Article Descripton']]"
   ]
  },
  {
   "cell_type": "code",
   "execution_count": 234,
   "metadata": {},
   "outputs": [
    {
     "name": "stderr",
     "output_type": "stream",
     "text": [
      "/Users/sai/anaconda3/lib/python3.6/site-packages/IPython/core/interactiveshell.py:2910: SettingWithCopyWarning: \n",
      "A value is trying to be set on a copy of a slice from a DataFrame\n",
      "\n",
      "See the caveats in the documentation: http://pandas.pydata.org/pandas-docs/stable/indexing.html#indexing-view-versus-copy\n",
      "  exec(code_obj, self.user_global_ns, self.user_ns)\n"
     ]
    },
    {
     "data": {
      "text/html": [
       "<div>\n",
       "<style scoped>\n",
       "    .dataframe tbody tr th:only-of-type {\n",
       "        vertical-align: middle;\n",
       "    }\n",
       "\n",
       "    .dataframe tbody tr th {\n",
       "        vertical-align: top;\n",
       "    }\n",
       "\n",
       "    .dataframe thead th {\n",
       "        text-align: right;\n",
       "    }\n",
       "</style>\n",
       "<table border=\"1\" class=\"dataframe\">\n",
       "  <thead>\n",
       "    <tr style=\"text-align: right;\">\n",
       "      <th></th>\n",
       "      <th>Article #</th>\n",
       "      <th>Article Descripton</th>\n",
       "    </tr>\n",
       "  </thead>\n",
       "  <tbody>\n",
       "    <tr>\n",
       "      <th>0</th>\n",
       "      <td>21021912</td>\n",
       "      <td>$10 BREADED SWISS CHKN BREAST</td>\n",
       "    </tr>\n",
       "    <tr>\n",
       "      <th>1</th>\n",
       "      <td>21093255</td>\n",
       "      <td>$10 CHICKEN &amp; VEG POTSTICKERS</td>\n",
       "    </tr>\n",
       "  </tbody>\n",
       "</table>\n",
       "</div>"
      ],
      "text/plain": [
       "  Article #             Article Descripton\n",
       "0  21021912  $10 BREADED SWISS CHKN BREAST\n",
       "1  21093255  $10 CHICKEN & VEG POTSTICKERS"
      ]
     },
     "execution_count": 234,
     "metadata": {},
     "output_type": "execute_result"
    }
   ],
   "source": [
    "table_article_numbers['Article Descripton'][0]='$10 BREADED SWISS CHKN BREAST'\n",
    "table_article_numbers.head(2)\n"
   ]
  },
  {
   "cell_type": "code",
   "execution_count": 237,
   "metadata": {},
   "outputs": [],
   "source": [
    "table_planograms=x1['Planogram Name'].drop_duplicates()"
   ]
  },
  {
   "cell_type": "code",
   "execution_count": 240,
   "metadata": {},
   "outputs": [],
   "source": [
    "table_Category=x1['POG Category'].drop_duplicates()"
   ]
  },
  {
   "cell_type": "code",
   "execution_count": 241,
   "metadata": {},
   "outputs": [
    {
     "data": {
      "text/plain": [
       "527"
      ]
     },
     "execution_count": 241,
     "metadata": {},
     "output_type": "execute_result"
    }
   ],
   "source": []
  },
  {
   "cell_type": "code",
   "execution_count": null,
   "metadata": {},
   "outputs": [],
   "source": []
  }
 ],
 "metadata": {
  "kernelspec": {
   "display_name": "Python 3",
   "language": "python",
   "name": "python3"
  }
 },
 "nbformat": 4,
 "nbformat_minor": 2
}
